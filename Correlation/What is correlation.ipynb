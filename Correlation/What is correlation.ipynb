{
 "cells": [
  {
   "cell_type": "markdown",
   "id": "87d346c5",
   "metadata": {},
   "source": [
    "# What is Correlation?\n",
    "### Correlation is a statistical term describing the degree to which two variables move in coordination with one another. If the two variables move in the same direction, then those variables are said to have a positive correlation. If they move in opposite directions, then they have a negative correlation."
   ]
  },
  {
   "cell_type": "code",
   "execution_count": 164,
   "id": "6f16d1e3",
   "metadata": {},
   "outputs": [],
   "source": [
    "import pandas as pd\n",
    "df=pd.read_csv(\"CorrelationData.csv\")"
   ]
  },
  {
   "cell_type": "markdown",
   "id": "fa1cda56",
   "metadata": {},
   "source": [
    "## Formula to find Correlation"
   ]
  },
  {
   "cell_type": "markdown",
   "id": "d956b1ce",
   "metadata": {},
   "source": [
    "$ r= n×(∑(X,Y)−(∑(X)×∑(Y)))/sqrt((n×∑(X^2)−∑(X)^2)×(n×∑(Y^2)−∑(Y)^2)) $"
   ]
  },
  {
   "cell_type": "code",
   "execution_count": 149,
   "id": "5f1e1fd8",
   "metadata": {},
   "outputs": [],
   "source": [
    "# Where #\n",
    "# ∑(x,y) is sum of product of respective index of each column\n",
    "df[\"∑(x,y)\"]=df[\"column1\"]*df[\"column2\"]"
   ]
  },
  {
   "cell_type": "code",
   "execution_count": 150,
   "id": "c6121576",
   "metadata": {},
   "outputs": [
    {
     "data": {
      "text/html": [
       "<div>\n",
       "<style scoped>\n",
       "    .dataframe tbody tr th:only-of-type {\n",
       "        vertical-align: middle;\n",
       "    }\n",
       "\n",
       "    .dataframe tbody tr th {\n",
       "        vertical-align: top;\n",
       "    }\n",
       "\n",
       "    .dataframe thead th {\n",
       "        text-align: right;\n",
       "    }\n",
       "</style>\n",
       "<table border=\"1\" class=\"dataframe\">\n",
       "  <thead>\n",
       "    <tr style=\"text-align: right;\">\n",
       "      <th></th>\n",
       "      <th>column1</th>\n",
       "      <th>column2</th>\n",
       "      <th>∑(x,y)</th>\n",
       "      <th>∑(x^2)</th>\n",
       "      <th>∑(y^2)</th>\n",
       "    </tr>\n",
       "  </thead>\n",
       "  <tbody>\n",
       "    <tr>\n",
       "      <th>0</th>\n",
       "      <td>34</td>\n",
       "      <td>78</td>\n",
       "      <td>2652</td>\n",
       "      <td>1156</td>\n",
       "      <td>6084</td>\n",
       "    </tr>\n",
       "    <tr>\n",
       "      <th>1</th>\n",
       "      <td>56</td>\n",
       "      <td>109</td>\n",
       "      <td>6104</td>\n",
       "      <td>3136</td>\n",
       "      <td>11881</td>\n",
       "    </tr>\n",
       "    <tr>\n",
       "      <th>2</th>\n",
       "      <td>43</td>\n",
       "      <td>90</td>\n",
       "      <td>3870</td>\n",
       "      <td>1849</td>\n",
       "      <td>8100</td>\n",
       "    </tr>\n",
       "    <tr>\n",
       "      <th>3</th>\n",
       "      <td>55</td>\n",
       "      <td>76</td>\n",
       "      <td>4180</td>\n",
       "      <td>3025</td>\n",
       "      <td>5776</td>\n",
       "    </tr>\n",
       "    <tr>\n",
       "      <th>4</th>\n",
       "      <td>23</td>\n",
       "      <td>52</td>\n",
       "      <td>1196</td>\n",
       "      <td>529</td>\n",
       "      <td>2704</td>\n",
       "    </tr>\n",
       "    <tr>\n",
       "      <th>5</th>\n",
       "      <td>45</td>\n",
       "      <td>95</td>\n",
       "      <td>4275</td>\n",
       "      <td>2025</td>\n",
       "      <td>9025</td>\n",
       "    </tr>\n",
       "    <tr>\n",
       "      <th>6</th>\n",
       "      <td>41</td>\n",
       "      <td>87</td>\n",
       "      <td>3567</td>\n",
       "      <td>1681</td>\n",
       "      <td>7569</td>\n",
       "    </tr>\n",
       "    <tr>\n",
       "      <th>7</th>\n",
       "      <td>52</td>\n",
       "      <td>103</td>\n",
       "      <td>5356</td>\n",
       "      <td>2704</td>\n",
       "      <td>10609</td>\n",
       "    </tr>\n",
       "    <tr>\n",
       "      <th>8</th>\n",
       "      <td>35</td>\n",
       "      <td>80</td>\n",
       "      <td>2800</td>\n",
       "      <td>1225</td>\n",
       "      <td>6400</td>\n",
       "    </tr>\n",
       "  </tbody>\n",
       "</table>\n",
       "</div>"
      ],
      "text/plain": [
       "   column1  column2  ∑(x,y)  ∑(x^2)  ∑(y^2)\n",
       "0       34       78    2652    1156    6084\n",
       "1       56      109    6104    3136   11881\n",
       "2       43       90    3870    1849    8100\n",
       "3       55       76    4180    3025    5776\n",
       "4       23       52    1196     529    2704\n",
       "5       45       95    4275    2025    9025\n",
       "6       41       87    3567    1681    7569\n",
       "7       52      103    5356    2704   10609\n",
       "8       35       80    2800    1225    6400"
      ]
     },
     "execution_count": 150,
     "metadata": {},
     "output_type": "execute_result"
    }
   ],
   "source": [
    "# ∑(x) sum of data from column1\n",
    "# ∑(y) sum of data from column2\n",
    "# ∑(x^2) sum of squares of data of column1\n",
    "# ∑(y^2) sum of squares of data of column2\n",
    "df[\"∑(x^2)\"]=df[\"column1\"]**2\n",
    "df[\"∑(y^2)\"]=df[\"column2\"]**2\n",
    "df"
   ]
  },
  {
   "cell_type": "code",
   "execution_count": 151,
   "id": "88e4a48f",
   "metadata": {},
   "outputs": [
    {
     "data": {
      "text/plain": [
       "10320"
      ]
     },
     "execution_count": 151,
     "metadata": {},
     "output_type": "execute_result"
    }
   ],
   "source": [
    "# Now we can find correlation using developed DafaFrame\n",
    "# Let's calculate numerator first\n",
    "n=len(df)\n",
    "Numerator= (len(df) * df[\"∑(x,y)\"].sum() -( df[\"column1\"].sum() * df[\"column2\"].sum() ))\n",
    "Numerator"
   ]
  },
  {
   "cell_type": "code",
   "execution_count": 152,
   "id": "69b65b52",
   "metadata": {},
   "outputs": [],
   "source": [
    "# Calculating dinominator\n",
    "# (7 x 11,534 - 268^2) x (7 x 39,174 - 518^2)\n",
    "Dinominator =( len(df) * df[\"∑(x^2)\"].sum() - df[\"column1\"].sum()**2 ) * ( len(df) * df[\"∑(y^2)\"].sum() - df[\"column2\"].sum()**2 )\n",
    "Dinominator = Dinominator**0.5"
   ]
  },
  {
   "cell_type": "code",
   "execution_count": 153,
   "id": "424a0c0e",
   "metadata": {},
   "outputs": [
    {
     "data": {
      "text/plain": [
       "0.7824515125385784"
      ]
     },
     "execution_count": 153,
     "metadata": {},
     "output_type": "execute_result"
    }
   ],
   "source": [
    "CorrelaionCoefficient=Numerator/Dinominator\n",
    "CorrelaionCoefficient"
   ]
  },
  {
   "cell_type": "code",
   "execution_count": null,
   "id": "157e5aaf",
   "metadata": {},
   "outputs": [],
   "source": [
    "# correlation ranges between -1 and 1\n",
    "# 0-1 means postive correlation i.e. values of column1 are positively related with column2 and vice-versa\n",
    "# If value of column1 increases then value of column2 will increase\n",
    "# -1 to 0 means negative correlation i.e. values of column1 are negatively related with column2 and vice-versa\n",
    "# If value of column1 increases then value of column2 will decrease\n",
    "# 0 means there is no any correlation between sets"
   ]
  }
 ],
 "metadata": {
  "kernelspec": {
   "display_name": "Python 3 (ipykernel)",
   "language": "python",
   "name": "python3"
  },
  "language_info": {
   "codemirror_mode": {
    "name": "ipython",
    "version": 3
   },
   "file_extension": ".py",
   "mimetype": "text/x-python",
   "name": "python",
   "nbconvert_exporter": "python",
   "pygments_lexer": "ipython3",
   "version": "3.10.1"
  }
 },
 "nbformat": 4,
 "nbformat_minor": 5
}
