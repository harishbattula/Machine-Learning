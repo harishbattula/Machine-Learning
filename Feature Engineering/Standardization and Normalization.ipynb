{
 "cells": [
  {
   "cell_type": "markdown",
   "id": "989f4529",
   "metadata": {},
   "source": [
    "# Feature Scaling\n",
    "### Feature Scaling is a technique to standardize the independent features present in the data in a fixed range. It is performed during the data pre-processing to handle highly varying magnitudes or values or units."
   ]
  },
  {
   "cell_type": "code",
   "execution_count": 73,
   "id": "4b7ee7bb",
   "metadata": {},
   "outputs": [],
   "source": [
    "import numpy as np\n",
    "import pandas as pd"
   ]
  },
  {
   "cell_type": "code",
   "execution_count": 74,
   "id": "124272aa",
   "metadata": {
    "scrolled": true
   },
   "outputs": [
    {
     "data": {
      "text/html": [
       "<div>\n",
       "<style scoped>\n",
       "    .dataframe tbody tr th:only-of-type {\n",
       "        vertical-align: middle;\n",
       "    }\n",
       "\n",
       "    .dataframe tbody tr th {\n",
       "        vertical-align: top;\n",
       "    }\n",
       "\n",
       "    .dataframe thead th {\n",
       "        text-align: right;\n",
       "    }\n",
       "</style>\n",
       "<table  border=\"1\" class=\"dataframe\">\n",
       "  <thead>\n",
       "    <tr style=\"text-align: right;\">\n",
       "      <th></th>\n",
       "      <th>col1</th>\n",
       "      <th>col2</th>\n",
       "      <th>col3</th>\n",
       "      <th>col4</th>\n",
       "      <th>col5</th>\n",
       "      <th>col6</th>\n",
       "      <th>col7</th>\n",
       "      <th>col8</th>\n",
       "    </tr>\n",
       "  </thead>\n",
       "  <tbody>\n",
       "    <tr>\n",
       "      <th>0</th>\n",
       "      <td>6</td>\n",
       "      <td>148</td>\n",
       "      <td>72</td>\n",
       "      <td>35</td>\n",
       "      <td>0</td>\n",
       "      <td>33.6</td>\n",
       "      <td>0.627</td>\n",
       "      <td>50</td>\n",
       "    </tr>\n",
       "    <tr>\n",
       "      <th>1</th>\n",
       "      <td>1</td>\n",
       "      <td>85</td>\n",
       "      <td>66</td>\n",
       "      <td>29</td>\n",
       "      <td>0</td>\n",
       "      <td>26.6</td>\n",
       "      <td>0.351</td>\n",
       "      <td>31</td>\n",
       "    </tr>\n",
       "    <tr>\n",
       "      <th>2</th>\n",
       "      <td>8</td>\n",
       "      <td>183</td>\n",
       "      <td>64</td>\n",
       "      <td>0</td>\n",
       "      <td>0</td>\n",
       "      <td>23.3</td>\n",
       "      <td>0.672</td>\n",
       "      <td>32</td>\n",
       "    </tr>\n",
       "    <tr>\n",
       "      <th>3</th>\n",
       "      <td>1</td>\n",
       "      <td>89</td>\n",
       "      <td>66</td>\n",
       "      <td>23</td>\n",
       "      <td>94</td>\n",
       "      <td>28.1</td>\n",
       "      <td>0.167</td>\n",
       "      <td>21</td>\n",
       "    </tr>\n",
       "    <tr>\n",
       "      <th>4</th>\n",
       "      <td>0</td>\n",
       "      <td>137</td>\n",
       "      <td>40</td>\n",
       "      <td>35</td>\n",
       "      <td>168</td>\n",
       "      <td>43.1</td>\n",
       "      <td>2.288</td>\n",
       "      <td>33</td>\n",
       "    </tr>\n",
       "  </tbody>\n",
       "</table>\n",
       "</div>"
      ],
      "text/plain": [
       "   col1  col2  col3  col4  col5  col6   col7  col8\n",
       "0     6   148    72    35     0  33.6  0.627    50\n",
       "1     1    85    66    29     0  26.6  0.351    31\n",
       "2     8   183    64     0     0  23.3  0.672    32\n",
       "3     1    89    66    23    94  28.1  0.167    21\n",
       "4     0   137    40    35   168  43.1  2.288    33"
      ]
     },
     "execution_count": 74,
     "metadata": {},
     "output_type": "execute_result"
    }
   ],
   "source": [
    "df=pd.read_csv(\"diabetis.csv\",usecols=[\"col1\",\"col2\",\"col3\",\"col4\",\"col5\",\"col6\",\"col7\",\"col8\"])\n",
    "df.head()"
   ]
  },
  {
   "cell_type": "code",
   "execution_count": 75,
   "id": "cf7b5404",
   "metadata": {},
   "outputs": [
    {
     "data": {
      "text/plain": [
       "array([[  6.   , 148.   ,  72.   , ...,  33.6  ,   0.627,  50.   ],\n",
       "       [  1.   ,  85.   ,  66.   , ...,  26.6  ,   0.351,  31.   ],\n",
       "       [  8.   , 183.   ,  64.   , ...,  23.3  ,   0.672,  32.   ],\n",
       "       ...,\n",
       "       [  5.   , 121.   ,  72.   , ...,  26.2  ,   0.245,  30.   ],\n",
       "       [  1.   , 126.   ,  60.   , ...,  30.1  ,   0.349,  47.   ],\n",
       "       [  1.   ,  93.   ,  70.   , ...,  30.4  ,   0.315,  23.   ]])"
      ]
     },
     "execution_count": 75,
     "metadata": {},
     "output_type": "execute_result"
    }
   ],
   "source": [
    "dataset=df.values\n",
    "dataset1=dataset\n",
    "dataset"
   ]
  },
  {
   "cell_type": "code",
   "execution_count": 76,
   "id": "e097da16",
   "metadata": {},
   "outputs": [],
   "source": [
    "def GetMinMax(dataset):\n",
    "    minmax=list()\n",
    "    for i in range(dataset.shape[1]):\n",
    "        ColValues=[row[i] for row in dataset]\n",
    "        MaxVal=max(ColValues)\n",
    "        MinVal=min(ColValues)\n",
    "        minmax.append([MinVal,MaxVal])\n",
    "    return minmax"
   ]
  },
  {
   "cell_type": "code",
   "execution_count": 77,
   "id": "4d860844",
   "metadata": {},
   "outputs": [
    {
     "data": {
      "text/plain": [
       "[[0.0, 17.0],\n",
       " [0.0, 199.0],\n",
       " [0.0, 122.0],\n",
       " [0.0, 99.0],\n",
       " [0.0, 846.0],\n",
       " [0.0, 67.1],\n",
       " [0.078, 2.42],\n",
       " [21.0, 81.0]]"
      ]
     },
     "execution_count": 77,
     "metadata": {},
     "output_type": "execute_result"
    }
   ],
   "source": [
    "MinMax=GetMinMax(dataset)\n",
    "MinMax"
   ]
  },
  {
   "cell_type": "code",
   "execution_count": 78,
   "id": "41f9930a",
   "metadata": {},
   "outputs": [],
   "source": [
    "def Normalization(dataset,MinMax):    \n",
    "    for row in dataset:\n",
    "        for i in range(len(row)):\n",
    "            row[i]=np.abs(row[i]-MinMax[i][0])/(MinMax[i][1]-MinMax[i][0])"
   ]
  },
  {
   "cell_type": "code",
   "execution_count": 79,
   "id": "70884ad3",
   "metadata": {},
   "outputs": [
    {
     "data": {
      "text/plain": [
       "array([[0.35294118, 0.74371859, 0.59016393, ..., 0.50074516, 0.23441503,\n",
       "        0.48333333],\n",
       "       [0.05882353, 0.42713568, 0.54098361, ..., 0.39642325, 0.11656704,\n",
       "        0.16666667],\n",
       "       [0.47058824, 0.91959799, 0.52459016, ..., 0.34724292, 0.25362938,\n",
       "        0.18333333],\n",
       "       ...,\n",
       "       [0.29411765, 0.6080402 , 0.59016393, ..., 0.390462  , 0.07130658,\n",
       "        0.15      ],\n",
       "       [0.05882353, 0.63316583, 0.49180328, ..., 0.4485842 , 0.11571307,\n",
       "        0.43333333],\n",
       "       [0.05882353, 0.46733668, 0.57377049, ..., 0.45305514, 0.10119556,\n",
       "        0.03333333]])"
      ]
     },
     "execution_count": 79,
     "metadata": {},
     "output_type": "execute_result"
    }
   ],
   "source": [
    "Normalization(dataset,MinMax)\n",
    "dataset"
   ]
  },
  {
   "cell_type": "code",
   "execution_count": 80,
   "id": "2919907d",
   "metadata": {},
   "outputs": [
    {
     "name": "stdout",
     "output_type": "stream",
     "text": [
      "0.0 1.0\n",
      "0.0 1.0\n",
      "0.0 1.0\n",
      "0.0 1.0\n",
      "0.0 1.0\n",
      "0.0 1.0\n",
      "0.0 1.0\n",
      "0.0 1.0\n"
     ]
    }
   ],
   "source": [
    "for i in range(dataset.shape[1]):\n",
    "    print(dataset[:, i].min(),dataset[:, i].max())"
   ]
  },
  {
   "cell_type": "code",
   "execution_count": 81,
   "id": "411f9512",
   "metadata": {},
   "outputs": [],
   "source": [
    "# We can see that all the values in dataset are normalized between 0-1 \n",
    "# Using normalization Technique\n",
    "# Although it is not good to normalize all the columns\n",
    "# We can apply normalization to essential columns"
   ]
  },
  {
   "cell_type": "code",
   "execution_count": 84,
   "id": "470ca70c",
   "metadata": {},
   "outputs": [],
   "source": [
    "# Applying Standardization to dataset\n",
    "# Standardization is a rescaling technique that refers to centering the distribution of the data \n",
    "# on the value 0 and the standard deviation to the value 1.\n",
    "def GetMeanStd(dataset):\n",
    "    \n",
    "    MeanStd=list()\n",
    "    \n",
    "    for i in range(dataset.shape[1]):\n",
    "        ColValues=dataset[:, i]\n",
    "        Mean=np.mean(ColValues)\n",
    "        Std=np.std(ColValues)\n",
    "        MeanStd.append([Mean,Std])\n",
    "    return MeanStd"
   ]
  },
  {
   "cell_type": "code",
   "execution_count": 86,
   "id": "f2b04873",
   "metadata": {},
   "outputs": [],
   "source": [
    "MeanStd=GetMeanStd(dataset1)"
   ]
  },
  {
   "cell_type": "code",
   "execution_count": 87,
   "id": "e4711509",
   "metadata": {},
   "outputs": [],
   "source": [
    "def Standardization(dataset,MeanStd):\n",
    "    for row in range(dataset.shape[0]):\n",
    "        for col in range(dataset.shape[1]):\n",
    "            dataset[row][col]=(dataset[row][col]-MeanStd[col][0])/MeanStd[col][1]"
   ]
  },
  {
   "cell_type": "code",
   "execution_count": 91,
   "id": "19b395f6",
   "metadata": {},
   "outputs": [
    {
     "data": {
      "text/plain": [
       "array([[ 0.63994726,  0.84832379,  0.14964075, ...,  0.20401277,\n",
       "         0.46849198,  1.4259954 ],\n",
       "       [-0.84488505, -1.12339636, -0.16054575, ..., -0.68442195,\n",
       "        -0.36506078, -0.19067191],\n",
       "       [ 1.23388019,  1.94372388, -0.26394125, ..., -1.10325546,\n",
       "         0.60439732, -0.10558415],\n",
       "       ...,\n",
       "       [ 0.3429808 ,  0.00330087,  0.14964075, ..., -0.73518964,\n",
       "        -0.68519336, -0.27575966],\n",
       "       [-0.84488505,  0.1597866 , -0.47073225, ..., -0.24020459,\n",
       "        -0.37110101,  1.17073215],\n",
       "       [-0.84488505, -0.8730192 ,  0.04624525, ..., -0.20212881,\n",
       "        -0.47378505, -0.87137393]])"
      ]
     },
     "execution_count": 91,
     "metadata": {},
     "output_type": "execute_result"
    }
   ],
   "source": [
    "# Standardization(dataset1,MeanStd)\n",
    "dataset1"
   ]
  },
  {
   "cell_type": "code",
   "execution_count": 92,
   "id": "0cc1b82a",
   "metadata": {},
   "outputs": [
    {
     "name": "stdout",
     "output_type": "stream",
     "text": [
      "-1.1418515161634992 3.906578350084603\n",
      "-3.783653713779629 2.444478206307916\n",
      "-3.572597239872642 2.7345282474204655\n",
      "-1.288212212945236 4.921865835155968\n",
      "-0.6928905722954675 6.652839378368461\n",
      "-4.060473872668308 4.45580749082507\n",
      "-1.1895531764897846 5.883564765877941\n",
      "-1.0415494364835027 4.063715751598595\n"
     ]
    }
   ],
   "source": [
    "for col in range(dataset1.shape[1]):\n",
    "    print(dataset1[:, col].min(),dataset1[:, col].max())"
   ]
  },
  {
   "cell_type": "code",
   "execution_count": null,
   "id": "d2ed9cca",
   "metadata": {},
   "outputs": [],
   "source": [
    "# There is no specific upper or lower bound for the maximum and minimum values\n",
    "# when we apply standardization on dataset like(0-1 for normalization)"
   ]
  }
 ],
 "metadata": {
  "kernelspec": {
   "display_name": "Python 3 (ipykernel)",
   "language": "python",
   "name": "python3"
  },
  "language_info": {
   "codemirror_mode": {
    "name": "ipython",
    "version": 3
   },
   "file_extension": ".py",
   "mimetype": "text/x-python",
   "name": "python",
   "nbconvert_exporter": "python",
   "pygments_lexer": "ipython3",
   "version": "3.10.1"
  }
 },
 "nbformat": 4,
 "nbformat_minor": 5
}
