{
 "cells": [
  {
   "cell_type": "code",
   "execution_count": 1,
   "id": "d0800d1a",
   "metadata": {},
   "outputs": [],
   "source": [
    "import pandas as pd\n",
    "import matplotlib.pyplot as plt\n",
    "\n",
    "# Import linear_model from sklearn for to compare our predictions\n",
    "from sklearn import linear_model"
   ]
  },
  {
   "cell_type": "code",
   "execution_count": null,
   "id": "e449266a",
   "metadata": {},
   "outputs": [],
   "source": []
  },
  {
   "cell_type": "code",
   "execution_count": 2,
   "id": "35b40d00",
   "metadata": {},
   "outputs": [
    {
     "data": {
      "text/html": [
       "<div>\n",
       "<style scoped>\n",
       "    .dataframe tbody tr th:only-of-type {\n",
       "        vertical-align: middle;\n",
       "    }\n",
       "\n",
       "    .dataframe tbody tr th {\n",
       "        vertical-align: top;\n",
       "    }\n",
       "\n",
       "    .dataframe thead th {\n",
       "        text-align: right;\n",
       "    }\n",
       "</style>\n",
       "<table border=\"1\" class=\"dataframe\">\n",
       "  <thead>\n",
       "    <tr style=\"text-align: right;\">\n",
       "      <th></th>\n",
       "      <th>Area</th>\n",
       "      <th>Price</th>\n",
       "    </tr>\n",
       "  </thead>\n",
       "  <tbody>\n",
       "    <tr>\n",
       "      <th>0</th>\n",
       "      <td>1200</td>\n",
       "      <td>328000</td>\n",
       "    </tr>\n",
       "    <tr>\n",
       "      <th>1</th>\n",
       "      <td>2400</td>\n",
       "      <td>830000</td>\n",
       "    </tr>\n",
       "    <tr>\n",
       "      <th>2</th>\n",
       "      <td>600</td>\n",
       "      <td>190000</td>\n",
       "    </tr>\n",
       "    <tr>\n",
       "      <th>3</th>\n",
       "      <td>1800</td>\n",
       "      <td>589000</td>\n",
       "    </tr>\n",
       "    <tr>\n",
       "      <th>4</th>\n",
       "      <td>3000</td>\n",
       "      <td>920000</td>\n",
       "    </tr>\n",
       "  </tbody>\n",
       "</table>\n",
       "</div>"
      ],
      "text/plain": [
       "   Area   Price\n",
       "0  1200  328000\n",
       "1  2400  830000\n",
       "2   600  190000\n",
       "3  1800  589000\n",
       "4  3000  920000"
      ]
     },
     "execution_count": 2,
     "metadata": {},
     "output_type": "execute_result"
    }
   ],
   "source": [
    "# Create dataframe using pandas readcsv method\n",
    "df = pd.read_csv(\"Data.csv\")\n",
    "df"
   ]
  },
  {
   "cell_type": "code",
   "execution_count": 3,
   "id": "dd5061a7",
   "metadata": {},
   "outputs": [
    {
     "data": {
      "text/plain": [
       "<matplotlib.collections.PathCollection at 0x292df723d00>"
      ]
     },
     "execution_count": 3,
     "metadata": {},
     "output_type": "execute_result"
    },
    {
     "data": {
      "image/png": "[encoded data removed]",
      "text/plain": [
       "<Figure size 432x288 with 1 Axes>"
      ]
     },
     "metadata": {
      "needs_background": "light"
     },
     "output_type": "display_data"
    }
   ],
   "source": [
    "# Let us assume that price of 1200 sq-ft area in hyderabad is 3,28,000 INR and respectively..\n",
    "# First let's analyse the data using graphs\n",
    "# Setting x,y labels to a graph\n",
    "\n",
    "plt.xlabel(\"Area\",fontsize=20)\n",
    "plt.ylabel(\"Price\",fontsize=20)\n",
    "plt.scatter(df.Area,df.Price,color=\"green\")"
   ]
  },
  {
   "cell_type": "code",
   "execution_count": 4,
   "id": "8a55f0cc",
   "metadata": {},
   "outputs": [
    {
     "data": {
      "text/html": [
       "<div>\n",
       "<style scoped>\n",
       "    .dataframe tbody tr th:only-of-type {\n",
       "        vertical-align: middle;\n",
       "    }\n",
       "\n",
       "    .dataframe tbody tr th {\n",
       "        vertical-align: top;\n",
       "    }\n",
       "\n",
       "    .dataframe thead th {\n",
       "        text-align: right;\n",
       "    }\n",
       "</style>\n",
       "<table border=\"1\" class=\"dataframe\">\n",
       "  <thead>\n",
       "    <tr style=\"text-align: right;\">\n",
       "      <th></th>\n",
       "      <th>Area</th>\n",
       "      <th>Price</th>\n",
       "      <th>x1</th>\n",
       "      <th>y1</th>\n",
       "      <th>Square(x1)</th>\n",
       "      <th>x1*y1</th>\n",
       "    </tr>\n",
       "  </thead>\n",
       "  <tbody>\n",
       "    <tr>\n",
       "      <th>0</th>\n",
       "      <td>1200</td>\n",
       "      <td>328000</td>\n",
       "      <td>-600.0</td>\n",
       "      <td>-243400.0</td>\n",
       "      <td>360000.0</td>\n",
       "      <td>146040000.0</td>\n",
       "    </tr>\n",
       "    <tr>\n",
       "      <th>1</th>\n",
       "      <td>2400</td>\n",
       "      <td>830000</td>\n",
       "      <td>600.0</td>\n",
       "      <td>258600.0</td>\n",
       "      <td>360000.0</td>\n",
       "      <td>155160000.0</td>\n",
       "    </tr>\n",
       "    <tr>\n",
       "      <th>2</th>\n",
       "      <td>600</td>\n",
       "      <td>190000</td>\n",
       "      <td>-1200.0</td>\n",
       "      <td>-381400.0</td>\n",
       "      <td>1440000.0</td>\n",
       "      <td>457680000.0</td>\n",
       "    </tr>\n",
       "    <tr>\n",
       "      <th>3</th>\n",
       "      <td>1800</td>\n",
       "      <td>589000</td>\n",
       "      <td>0.0</td>\n",
       "      <td>17600.0</td>\n",
       "      <td>0.0</td>\n",
       "      <td>0.0</td>\n",
       "    </tr>\n",
       "    <tr>\n",
       "      <th>4</th>\n",
       "      <td>3000</td>\n",
       "      <td>920000</td>\n",
       "      <td>1200.0</td>\n",
       "      <td>348600.0</td>\n",
       "      <td>1440000.0</td>\n",
       "      <td>418320000.0</td>\n",
       "    </tr>\n",
       "  </tbody>\n",
       "</table>\n",
       "</div>"
      ],
      "text/plain": [
       "   Area   Price      x1        y1  Square(x1)        x1*y1\n",
       "0  1200  328000  -600.0 -243400.0    360000.0  146040000.0\n",
       "1  2400  830000   600.0  258600.0    360000.0  155160000.0\n",
       "2   600  190000 -1200.0 -381400.0   1440000.0  457680000.0\n",
       "3  1800  589000     0.0   17600.0         0.0          0.0\n",
       "4  3000  920000  1200.0  348600.0   1440000.0  418320000.0"
      ]
     },
     "execution_count": 4,
     "metadata": {},
     "output_type": "execute_result"
    }
   ],
   "source": [
    "# From graph we see that data is linearly distributed\n",
    "# Let's find some statistical values from data\n",
    "\n",
    "\n",
    "AreaMean = df[\"Area\"].mean()\n",
    "PriceMean = df[\"Price\"].mean()\n",
    "\n",
    "# Distance from Area point to the AreaMean (Area-AreaMean)\n",
    "df[\"x1\"] = df[\"Area\"]-AreaMean\n",
    " \n",
    "# Distance from Price point to the PriceMean (Price-PriceMean)\n",
    "df[\"y1\"] = df[\"Price\"]-PriceMean\n",
    "\n",
    "# Squre of x1\n",
    "df[\"Square(x1)\"] = df[\"x1\"]*df[\"x1\"]\n",
    "\n",
    "# Product of x1 and y1\n",
    "df[\"x1*y1\"] = df[\"x1\"]*df[\"y1\"]\n",
    "df"
   ]
  },
  {
   "cell_type": "code",
   "execution_count": 6,
   "id": "3002224b",
   "metadata": {},
   "outputs": [],
   "source": [
    "# Sum of data in column x1*y1\n",
    "\n",
    "SumOfx1_y1 = df[\"x1*y1\"].sum()\n",
    "\n",
    "# Sum of data in Squre(x1) column\n",
    "\n",
    "SumOfSquareOfx1 = df[\"Square(x1)\"].sum()"
   ]
  },
  {
   "cell_type": "code",
   "execution_count": 7,
   "id": "4d50b92f",
   "metadata": {},
   "outputs": [
    {
     "name": "stdout",
     "output_type": "stream",
     "text": [
      "327.0 -17200.0\n"
     ]
    }
   ],
   "source": [
    "# From y=mx+c we know that\n",
    "# m = SumOfx1_y1 / SumOfSquareOfx1\n",
    "\n",
    "Coefficient = SumOfx1_y1/SumOfSquareOfx1\n",
    "\n",
    "# From y=mx+c (equation of a straight line)\n",
    "# Where m is a slope or gradiant and c is y-intercept\n",
    "# As We know regression line goes through the mean of the independent and mean of dependent variable.\n",
    "# Here the dependent variable is Area and dependent variable is Price\n",
    "\n",
    "Intercept = PriceMean-Coefficient*AreaMean\n",
    "\n",
    "print(Coefficient,Intercept)"
   ]
  },
  {
   "cell_type": "code",
   "execution_count": 8,
   "id": "86e6e771",
   "metadata": {},
   "outputs": [
    {
     "name": "stdout",
     "output_type": "stream",
     "text": [
      "48200.0\n",
      "1464764.0\n",
      "2858111.0\n"
     ]
    }
   ],
   "source": [
    "# Now we can make python definition that predicts price of given area\n",
    "\n",
    "def PredictPrice(Area):\n",
    "    assert type(Area)==int or type(Area)==float ,f\"type fo Area{Area} must be int or float\"\n",
    "    return Coefficient*Area+Intercept\n",
    "\n",
    "print(PredictPrice(200))\n",
    "print(PredictPrice(4532))\n",
    "print(PredictPrice(8793))"
   ]
  },
  {
   "cell_type": "code",
   "execution_count": 9,
   "id": "ae166dd3",
   "metadata": {},
   "outputs": [
    {
     "name": "stdout",
     "output_type": "stream",
     "text": [
      "[48200.]\n",
      "[1464764.]\n",
      "[2858111.]\n"
     ]
    },
    {
     "name": "stderr",
     "output_type": "stream",
     "text": [
      "C:\\Users\\Harish\\AppData\\Local\\Programs\\Python\\Python310\\lib\\site-packages\\sklearn\\base.py:450: UserWarning: X does not have valid feature names, but LinearRegression was fitted with feature names\n",
      "  warnings.warn(\n",
      "C:\\Users\\Harish\\AppData\\Local\\Programs\\Python\\Python310\\lib\\site-packages\\sklearn\\base.py:450: UserWarning: X does not have valid feature names, but LinearRegression was fitted with feature names\n",
      "  warnings.warn(\n",
      "C:\\Users\\Harish\\AppData\\Local\\Programs\\Python\\Python310\\lib\\site-packages\\sklearn\\base.py:450: UserWarning: X does not have valid feature names, but LinearRegression was fitted with feature names\n",
      "  warnings.warn(\n"
     ]
    }
   ],
   "source": [
    "# let us compare our results with linear_model in sklearn\n",
    "\n",
    "# Creating instance of regression\n",
    "Regression=linear_model.LinearRegression()\n",
    "\n",
    "# Fitting Data\n",
    "Regression.fit(df[[\"Area\"]],df.Price)\n",
    "\n",
    "# Predicting price\n",
    "print(Regression.predict([[200]]))\n",
    "print(Regression.predict([[4532]]))\n",
    "print(Regression.predict([[8793]]))"
   ]
  },
  {
   "cell_type": "code",
   "execution_count": 10,
   "id": "32db7e3f",
   "metadata": {},
   "outputs": [
    {
     "data": {
      "text/plain": [
       "[<matplotlib.lines.Line2D at 0x292f2bacc40>]"
      ]
     },
     "execution_count": 10,
     "metadata": {},
     "output_type": "execute_result"
    },
    {
     "data": {
      "image/png": "[encoded data removed]",
      "text/plain": [
       "<Figure size 432x288 with 1 Axes>"
      ]
     },
     "metadata": {
      "needs_background": "light"
     },
     "output_type": "display_data"
    }
   ],
   "source": [
    "# Plotting Regression line using matplotlib library\n",
    "plt.xlabel(\"Area\",fontsize=15)\n",
    "plt.ylabel(\"Price In INR\",fontsize=15)\n",
    "plt.title(\"Plotting Regression Line\",fontsize=25)\n",
    "plt.scatter(df.Area,df.Price,color=\"red\",marker=\"+\")\n",
    "plt.plot(df.Area,Regression.predict(df[[\"Area\"]]),color=\"blue\")"
   ]
  }
 ],
 "metadata": {
  "kernelspec": {
   "display_name": "Python 3 (ipykernel)",
   "language": "python",
   "name": "python3"
  },
  "language_info": {
   "codemirror_mode": {
    "name": "ipython",
    "version": 3
   },
   "file_extension": ".py",
   "mimetype": "text/x-python",
   "name": "python",
   "nbconvert_exporter": "python",
   "pygments_lexer": "ipython3",
   "version": "3.10.1"
  }
 },
 "nbformat": 4,
 "nbformat_minor": 5
}
