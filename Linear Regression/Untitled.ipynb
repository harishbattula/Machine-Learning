{
 "cells": [
  {
   "cell_type": "code",
   "execution_count": 41,
   "id": "0dc7ed57",
   "metadata": {},
   "outputs": [],
   "source": [
    "# Importing Essential Libraries\n",
    "import pandas as pd\n",
    "import numpy as np\n",
    "import matplotlib.pyplot as plt"
   ]
  },
  {
   "cell_type": "code",
   "execution_count": 242,
   "id": "a880706a",
   "metadata": {},
   "outputs": [],
   "source": [
    "# Loading data into dataframe using pandas\n",
    "df=pd.read_csv(\"50_Startups.csv\")"
   ]
  },
  {
   "cell_type": "code",
   "execution_count": 43,
   "id": "4acd1dd3",
   "metadata": {},
   "outputs": [
    {
     "data": {
      "text/plain": [
       "array(['New York', 'California', 'Florida'], dtype=object)"
      ]
     },
     "execution_count": 43,
     "metadata": {},
     "output_type": "execute_result"
    }
   ],
   "source": [
    "# Since State column has some categorical init , we need to convert them to numerical data for mathematical computation purpose.\n",
    "# unique method returns unique values of specified column.\n",
    "df[\"State\"].unique()"
   ]
  },
  {
   "cell_type": "code",
   "execution_count": 240,
   "id": "4b069426",
   "metadata": {},
   "outputs": [
    {
     "data": {
      "text/html": [
       "<div>\n",
       "<style scoped>\n",
       "    .dataframe tbody tr th:only-of-type {\n",
       "        vertical-align: middle;\n",
       "    }\n",
       "\n",
       "    .dataframe tbody tr th {\n",
       "        vertical-align: top;\n",
       "    }\n",
       "\n",
       "    .dataframe thead th {\n",
       "        text-align: right;\n",
       "    }\n",
       "</style>\n",
       "<table border=\"1\" class=\"dataframe\">\n",
       "  <thead>\n",
       "    <tr style=\"text-align: right;\">\n",
       "      <th></th>\n",
       "      <th>R&amp;D Spend</th>\n",
       "      <th>Administration</th>\n",
       "      <th>Marketing Spend</th>\n",
       "      <th>State</th>\n",
       "      <th>Profit</th>\n",
       "    </tr>\n",
       "  </thead>\n",
       "  <tbody>\n",
       "    <tr>\n",
       "      <th>0</th>\n",
       "      <td>165349.20</td>\n",
       "      <td>136897.80</td>\n",
       "      <td>471784.10</td>\n",
       "      <td>0</td>\n",
       "      <td>192261.83</td>\n",
       "    </tr>\n",
       "    <tr>\n",
       "      <th>1</th>\n",
       "      <td>162597.70</td>\n",
       "      <td>151377.59</td>\n",
       "      <td>443898.53</td>\n",
       "      <td>1</td>\n",
       "      <td>191792.06</td>\n",
       "    </tr>\n",
       "    <tr>\n",
       "      <th>2</th>\n",
       "      <td>153441.51</td>\n",
       "      <td>101145.55</td>\n",
       "      <td>407934.54</td>\n",
       "      <td>2</td>\n",
       "      <td>191050.39</td>\n",
       "    </tr>\n",
       "    <tr>\n",
       "      <th>3</th>\n",
       "      <td>144372.41</td>\n",
       "      <td>118671.85</td>\n",
       "      <td>383199.62</td>\n",
       "      <td>0</td>\n",
       "      <td>182901.99</td>\n",
       "    </tr>\n",
       "    <tr>\n",
       "      <th>4</th>\n",
       "      <td>142107.34</td>\n",
       "      <td>91391.77</td>\n",
       "      <td>366168.42</td>\n",
       "      <td>2</td>\n",
       "      <td>166187.94</td>\n",
       "    </tr>\n",
       "    <tr>\n",
       "      <th>5</th>\n",
       "      <td>131876.90</td>\n",
       "      <td>99814.71</td>\n",
       "      <td>362861.36</td>\n",
       "      <td>0</td>\n",
       "      <td>156991.12</td>\n",
       "    </tr>\n",
       "    <tr>\n",
       "      <th>6</th>\n",
       "      <td>134615.46</td>\n",
       "      <td>147198.87</td>\n",
       "      <td>127716.82</td>\n",
       "      <td>1</td>\n",
       "      <td>156122.51</td>\n",
       "    </tr>\n",
       "    <tr>\n",
       "      <th>7</th>\n",
       "      <td>130298.13</td>\n",
       "      <td>145530.06</td>\n",
       "      <td>323876.68</td>\n",
       "      <td>2</td>\n",
       "      <td>155752.60</td>\n",
       "    </tr>\n",
       "    <tr>\n",
       "      <th>8</th>\n",
       "      <td>120542.52</td>\n",
       "      <td>148718.95</td>\n",
       "      <td>311613.29</td>\n",
       "      <td>0</td>\n",
       "      <td>152211.77</td>\n",
       "    </tr>\n",
       "    <tr>\n",
       "      <th>9</th>\n",
       "      <td>123334.88</td>\n",
       "      <td>108679.17</td>\n",
       "      <td>304981.62</td>\n",
       "      <td>1</td>\n",
       "      <td>149759.96</td>\n",
       "    </tr>\n",
       "  </tbody>\n",
       "</table>\n",
       "</div>"
      ],
      "text/plain": [
       "   R&D Spend  Administration  Marketing Spend  State     Profit\n",
       "0  165349.20       136897.80        471784.10      0  192261.83\n",
       "1  162597.70       151377.59        443898.53      1  191792.06\n",
       "2  153441.51       101145.55        407934.54      2  191050.39\n",
       "3  144372.41       118671.85        383199.62      0  182901.99\n",
       "4  142107.34        91391.77        366168.42      2  166187.94\n",
       "5  131876.90        99814.71        362861.36      0  156991.12\n",
       "6  134615.46       147198.87        127716.82      1  156122.51\n",
       "7  130298.13       145530.06        323876.68      2  155752.60\n",
       "8  120542.52       148718.95        311613.29      0  152211.77\n",
       "9  123334.88       108679.17        304981.62      1  149759.96"
      ]
     },
     "execution_count": 240,
     "metadata": {},
     "output_type": "execute_result"
    }
   ],
   "source": [
    "# Replacing categorical data using replace method..\n",
    "df=df.replace({\n",
    "    \"New York\":0,\n",
    "    \"California\":1,\n",
    "    \"Florida\":2\n",
    "})\n",
    "df.head(10)"
   ]
  },
  {
   "cell_type": "code",
   "execution_count": 48,
   "id": "e2f40b30",
   "metadata": {},
   "outputs": [],
   "source": [
    "# getting values from dataframe into an array\n",
    "data=df.values"
   ]
  },
  {
   "cell_type": "code",
   "execution_count": 50,
   "id": "552b70a3",
   "metadata": {},
   "outputs": [],
   "source": [
    "# Seperating Features and Predicted values from data\n",
    "# Here in this particular case ,we need to predict Profit of a startup company based on its available features.\n",
    "# Y is matrix with 50 rows and 1 column, which contains predicted values for different values of Features\n",
    "\n",
    "# Reshaping data ,so that it fits for matrix multiplication\n",
    "X=data[:, :-1].T\n",
    "Y=data[:, -1].reshape((data.shape[0],1))"
   ]
  },
  {
   "cell_type": "code",
   "execution_count": 51,
   "id": "dbe86816",
   "metadata": {},
   "outputs": [
    {
     "name": "stdout",
     "output_type": "stream",
     "text": [
      "(4, 50)\n",
      "(50, 1)\n"
     ]
    }
   ],
   "source": [
    "# Analysing shapes of datasets, to avoid confusion on matrix multiplication..\n",
    "print(X.shape)\n",
    "print(Y.shape)"
   ]
  },
  {
   "cell_type": "code",
   "execution_count": 52,
   "id": "3613b1ff",
   "metadata": {},
   "outputs": [
    {
     "name": "stdout",
     "output_type": "stream",
     "text": [
      "(5, 50)\n"
     ]
    }
   ],
   "source": [
    "# Adding ones row to x, so that we can predict y-intercept(θ0) as well along with all features slope(θn,θ(n-1),θ(n-2),---θ2,θ1)\n",
    "X=np.vstack((np.ones(X.shape[1]),X))\n",
    "print(X.shape)"
   ]
  },
  {
   "cell_type": "code",
   "execution_count": 243,
   "id": "2ac334e0",
   "metadata": {},
   "outputs": [],
   "source": [
    "# Below is method that takes input features,predicted values and \n",
    "# returns slopes(Parameters) of respective Fetures in matrix form.\n",
    "# It works on Gradiant Descesnt Algorithm\n",
    "\n",
    "\n",
    "def model(X,Y,LearningRate,Iteration):\n",
    "    \n",
    "    # m is total no of samples we have\n",
    "    m=Y.shape[0]\n",
    "    \n",
    "    # theta is a column_matrix(vector) with initial guess perameters of 0.\n",
    "    # We can have any different values for parameters as initial guees.\n",
    "    theta=np.zeros((X.shape[0],1))\n",
    "    \n",
    "    # Initializing cost evaluation array to know whether we are descending loss function using Gradiant Descent or not..\n",
    "    # We can igonre this step ,but we can achieve better predictions by analysing cost function\n",
    "    # We have many loss function , I found it's better to use LSE(Least Square Error method)\n",
    "    \n",
    "    # cost_evaluation=[]\n",
    "    \n",
    "    \n",
    "    # Below is gradiant descent Algorithm for descending loss function\n",
    "    # We can stop loop by specifying no of iterations or when d_theta tends to 0\n",
    "    for i in range (Iteration):\n",
    "        \n",
    "        # Predicting new values with respect to theta.\n",
    "        # Initially we set all parameters to 0.\n",
    "        # For matrix multiplication we are transposing X here.\n",
    "        y_pred=np.dot(X.T,theta)\n",
    "        \n",
    "        # Least Square Error method for cost function\n",
    "        # Commenting Cost Function For better performance of this model ..\n",
    "        \n",
    "        # cost=1/2*m*(np.sum(np.square(Y-y_pred)))\n",
    "        \n",
    "        # d_theta=np.sum(np.square(Y-y_pred))\n",
    "        d_theta=1/(2*m)*np.dot(X,((y_pred-Y)))\n",
    "        \n",
    "        # LearningRate*d_theta--> is nothing but a stepsize\n",
    "        # Overall theta decreases when d_theta is negative, and increases when d_theta is positive\n",
    "        theta=theta-LearningRate*d_theta\n",
    "        \n",
    "        # Appending cost value for analysing how algorithm is going..\n",
    "        # For better performance of this model commenting below lines..\n",
    "        \n",
    "        # cost_evaluation.append(cost)\n",
    "        \n",
    "        # printing cost for every 100 appends\n",
    "        # Status of our algorithm\n",
    "        if(i%100==0):\n",
    "            # print(cost)\n",
    "             print(f\"Out of 1000 Iterations ,{i} over\")\n",
    "        \n",
    "    print(\"Model learning completed now we can predict values..\")\n",
    "    return theta"
   ]
  },
  {
   "cell_type": "code",
   "execution_count": 244,
   "id": "f46155e2",
   "metadata": {},
   "outputs": [
    {
     "name": "stdout",
     "output_type": "stream",
     "text": [
      "Out of 1000 Iterations ,0 over\n",
      "Out of 1000 Iterations ,100 over\n",
      "Out of 1000 Iterations ,200 over\n",
      "Out of 1000 Iterations ,300 over\n",
      "Out of 1000 Iterations ,400 over\n",
      "Out of 1000 Iterations ,500 over\n",
      "Out of 1000 Iterations ,600 over\n",
      "Out of 1000 Iterations ,700 over\n",
      "Out of 1000 Iterations ,800 over\n",
      "Out of 1000 Iterations ,900 over\n",
      "Model learning completed now we can predict values..\n"
     ]
    },
    {
     "data": {
      "text/plain": [
       "array([[4.07121265e-05],\n",
       "       [7.17952592e-01],\n",
       "       [3.27694732e-01],\n",
       "       [8.21795432e-02],\n",
       "       [2.67166030e-05]])"
      ]
     },
     "execution_count": 244,
     "metadata": {},
     "output_type": "execute_result"
    }
   ],
   "source": [
    "theta=model(X,Y,0.00000000004,1000)\n",
    "theta"
   ]
  },
  {
   "cell_type": "code",
   "execution_count": 249,
   "id": "60e09fa9",
   "metadata": {},
   "outputs": [
    {
     "name": "stdout",
     "output_type": "stream",
     "text": [
      "Old          New\n",
      "192261.83    202344.58\n",
      "191792.06    202822.46\n",
      "191050.39    176832.47\n",
      "182901.99    174031.86\n",
      "166187.94    162066.49\n",
      "156991.12    157209.9\n",
      "156122.51    155379.52\n",
      "155752.6    167853.35\n",
      "152211.77    160886.47\n",
      "149759.96    149225.44\n",
      "146121.95    128242.21\n",
      "144259.4    122880.89\n",
      "141585.52    129643.63\n",
      "134307.35    131211.08\n",
      "132602.65    158493.44\n",
      "129917.04    143916.07\n",
      "126992.93    117580.43\n",
      "125370.37    138722.34\n",
      "124266.9    127522.71\n",
      "122776.86    112351.01\n"
     ]
    }
   ],
   "source": [
    "# Predicting Insurance charges and comparing them with already available charges\n",
    "\n",
    "print(\"Old          New\")\n",
    "for i in range(20):\n",
    "    print(f\"{Y[i][0].round(2)}    {np.dot(X.T[i],theta)[0].round(2)}\")"
   ]
  }
 ],
 "metadata": {
  "kernelspec": {
   "display_name": "Python 3 (ipykernel)",
   "language": "python",
   "name": "python3"
  },
  "language_info": {
   "codemirror_mode": {
    "name": "ipython",
    "version": 3
   },
   "file_extension": ".py",
   "mimetype": "text/x-python",
   "name": "python",
   "nbconvert_exporter": "python",
   "pygments_lexer": "ipython3",
   "version": "3.10.1"
  }
 },
 "nbformat": 4,
 "nbformat_minor": 5
}
