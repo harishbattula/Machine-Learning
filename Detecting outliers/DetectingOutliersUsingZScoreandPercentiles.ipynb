{
 "cells": [
  {
   "cell_type": "code",
   "execution_count": 1,
   "id": "70d96c45",
   "metadata": {},
   "outputs": [],
   "source": [
    "import numpy as np"
   ]
  },
  {
   "cell_type": "code",
   "execution_count": 2,
   "id": "059a30da",
   "metadata": {},
   "outputs": [],
   "source": [
    "data=[90,16,94,87,95,45,32,335,299,98,83,988,234,80,81,86,9,5,81,8,93,98,109,189,199,1,9,55,-800,183,84,265,395,1020]"
   ]
  },
  {
   "cell_type": "code",
   "execution_count": 3,
   "id": "4dd7b9dd",
   "metadata": {},
   "outputs": [],
   "source": [
    "# Detecting outliers using Z Score\n",
    "# Z score is the nth(normally 3-4) standard deviation where our data point lies\n",
    "def GetOutliers(data,Threshold):\n",
    "    \n",
    "    # Initilizing Outliers to empty\n",
    "    Outliers=[]\n",
    "    \n",
    "    # Mean of data\n",
    "    mean=np.mean(data)\n",
    "    \n",
    "    # Standard deviation of data\n",
    "    std=np.std(data)\n",
    "    \n",
    "    for i in data:\n",
    "        \n",
    "        # Z Score of value with respect to mean and standard deviation of dataset that we pass\n",
    "        ZScore=(mean-i)/std\n",
    "        \n",
    "        # If Z Score is greater than nth(Threshold) standard deviation\n",
    "        if np.abs(ZScore)> Threshold:\n",
    "            \n",
    "            # Append outlier to Outliers list\n",
    "            Outliers.append(i)\n",
    "            \n",
    "    return Outliers"
   ]
  },
  {
   "cell_type": "code",
   "execution_count": 4,
   "id": "892f46f6",
   "metadata": {},
   "outputs": [
    {
     "data": {
      "text/plain": [
       "[988, -800, 1020]"
      ]
     },
     "execution_count": 4,
     "metadata": {},
     "output_type": "execute_result"
    }
   ],
   "source": [
    "Outliers=GetOutliers(data,3)\n",
    "Outliers"
   ]
  },
  {
   "cell_type": "code",
   "execution_count": 5,
   "id": "8a2a55a5",
   "metadata": {},
   "outputs": [
    {
     "name": "stdout",
     "output_type": "stream",
     "text": [
      "3.6000000000000005 602.5499999999987\n"
     ]
    }
   ],
   "source": [
    "# Detecting outliers using percentiles\n",
    "# Although it is not a good way to use percentiles for outliers detection\n",
    "# But for some datasets using our domain knowledge we can use this method\n",
    "Percentile5,Percentile95=np.percentile(data,[5,95])\n",
    "print(Percentile5,Percentile95)"
   ]
  },
  {
   "cell_type": "code",
   "execution_count": 6,
   "id": "c4da65e9",
   "metadata": {},
   "outputs": [],
   "source": [
    "# Detecting outliers using percentiles\n",
    "def GetOutliersUsingPercentiles(data,MinThreshold,MaxThreshold):\n",
    "    \n",
    "    Outliers=[]\n",
    "    \n",
    "    MinPercentileVal=np.percentile(data,[MinThreshold])\n",
    "    MaxPercentileVal=np.percentile(data,[MaxThreshold])\n",
    "    \n",
    "    for i in data:\n",
    "        \n",
    "        if i<MinPercentileVal or i>MaxPercentileVal:\n",
    "            \n",
    "            Outliers.append(i)\n",
    "    return Outliers"
   ]
  },
  {
   "cell_type": "code",
   "execution_count": 7,
   "id": "85f635a7",
   "metadata": {},
   "outputs": [
    {
     "data": {
      "text/plain": [
       "[988, -800, 1020]"
      ]
     },
     "execution_count": 7,
     "metadata": {},
     "output_type": "execute_result"
    }
   ],
   "source": [
    "Outliers=GetOutliersUsingPercentiles(data,3,95)\n",
    "Outliers"
   ]
  }
 ],
 "metadata": {
  "kernelspec": {
   "display_name": "Python 3 (ipykernel)",
   "language": "python",
   "name": "python3"
  },
  "language_info": {
   "codemirror_mode": {
    "name": "ipython",
    "version": 3
   },
   "file_extension": ".py",
   "mimetype": "text/x-python",
   "name": "python",
   "nbconvert_exporter": "python",
   "pygments_lexer": "ipython3",
   "version": "3.10.1"
  }
 },
 "nbformat": 4,
 "nbformat_minor": 5
}
