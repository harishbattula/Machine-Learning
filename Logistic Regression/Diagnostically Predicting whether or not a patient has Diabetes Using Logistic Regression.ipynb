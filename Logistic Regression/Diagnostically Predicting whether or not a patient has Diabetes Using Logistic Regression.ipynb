{
 "cells": [
  {
   "cell_type": "code",
   "execution_count": 1,
   "id": "1994fb46",
   "metadata": {},
   "outputs": [],
   "source": [
    "# Importing essential libraries\n",
    "import pandas as pd\n",
    "import numpy as np\n",
    "import matplotlib.pyplot as plt"
   ]
  },
  {
   "cell_type": "code",
   "execution_count": 2,
   "id": "b6e2eafd",
   "metadata": {},
   "outputs": [],
   "source": [
    "X_train=pd.read_csv(\"X_train.csv\").values\n",
    "Y_train=pd.read_csv(\"Y_train.csv\").values\n",
    "X_test=pd.read_csv(\"X_test.csv\").values\n",
    "Y_test=pd.read_csv(\"Y_test.csv\").values"
   ]
  },
  {
   "cell_type": "code",
   "execution_count": 3,
   "id": "428bb064",
   "metadata": {},
   "outputs": [
    {
     "name": "stdout",
     "output_type": "stream",
     "text": [
      "(500, 8)\n",
      "(500, 1)\n",
      "(268, 8)\n",
      "(268, 1)\n"
     ]
    }
   ],
   "source": [
    "# Analysing shapes of data\n",
    "print(X_train.shape)\n",
    "print(Y_train.shape)\n",
    "print(X_test.shape)\n",
    "print(Y_test.shape)"
   ]
  },
  {
   "cell_type": "code",
   "execution_count": 4,
   "id": "7436d040",
   "metadata": {},
   "outputs": [],
   "source": [
    "# Processing data for numpy operations\n",
    "X_train = X_train.T\n",
    "Y_train = Y_train.reshape(1, X_train.shape[1])\n",
    "\n",
    "X_test = X_test.T\n",
    "Y_test = Y_test.reshape(1, X_test.shape[1])"
   ]
  },
  {
   "cell_type": "code",
   "execution_count": 5,
   "id": "ed14cc72",
   "metadata": {},
   "outputs": [],
   "source": [
    "# Sigmoid function that gives probability of our outcome between 0 and 1\n",
    "\n",
    "def sigmoid(x):\n",
    "    return 1/(1 + np.exp(-x))"
   ]
  },
  {
   "cell_type": "code",
   "execution_count": 6,
   "id": "c20866f5",
   "metadata": {},
   "outputs": [],
   "source": [
    "# Creating model for predicting outcomes\n",
    "\n",
    "def model(X, Y, learning_rate, iterations):\n",
    "    \n",
    "    m = X_train.shape[1]\n",
    "    n = X_train.shape[0]\n",
    "    \n",
    "    W = np.zeros((n,1))\n",
    "    B = 0\n",
    "    \n",
    "    CostValues = []\n",
    "    \n",
    "    for i in range(iterations):\n",
    "        \n",
    "        Z = np.dot(W.T, X) + B\n",
    "        A = sigmoid(Z)\n",
    "        \n",
    "        # cost function\n",
    "        cost = -(1/m)*np.sum( Y*np.log(A) + (1-Y)*np.log(1-A))\n",
    "        \n",
    "        # Gradient Descent\n",
    "        dW = 1/m*np.dot(Y - A, X.T)\n",
    "        dB = 1/m*np.sum(Y - A)\n",
    "        \n",
    "        W = W + learning_rate*dW.T\n",
    "        B = B + learning_rate*dB\n",
    "        \n",
    "        # Keeping track of our cost function value\n",
    "        CostValues.append(cost)\n",
    "        \n",
    "        if(i%(iterations/10) == 0):\n",
    "            print(\"cost after \", i, \"iteration is : \", cost)\n",
    "        \n",
    "    return W, B, cost_list"
   ]
  },
  {
   "cell_type": "code",
   "execution_count": 30,
   "id": "7855192c",
   "metadata": {},
   "outputs": [
    {
     "name": "stdout",
     "output_type": "stream",
     "text": [
      "cost after  0 iteration is :  0.6931471805599454\n",
      "cost after  100000 iteration is :  0.5900573087943145\n",
      "cost after  200000 iteration is :  0.573015277144828\n",
      "cost after  300000 iteration is :  0.5594420309881507\n",
      "cost after  400000 iteration is :  0.5485609513734061\n",
      "cost after  500000 iteration is :  0.5397724336715075\n",
      "cost after  600000 iteration is :  0.5326175945473458\n",
      "cost after  700000 iteration is :  0.5267466163275061\n",
      "cost after  800000 iteration is :  0.521892572778782\n",
      "cost after  900000 iteration is :  0.5178508553800824\n"
     ]
    }
   ],
   "source": [
    "# Traing our model with train dataset\n",
    "W, B, cost_list = model(X_train, Y_train, .00019, 1000000)"
   ]
  },
  {
   "cell_type": "code",
   "execution_count": 25,
   "id": "0eb8b0b5",
   "metadata": {},
   "outputs": [
    {
     "data": {
      "image/png": "[encoded data removed]",
      "text/plain": [
       "<Figure size 432x288 with 1 Axes>"
      ]
     },
     "metadata": {
      "needs_background": "light"
     },
     "output_type": "display_data"
    }
   ],
   "source": [
    "# visualizing decreasing cost function using matplotlib\n",
    "\n",
    "plt.plot(np.arange(Iterations), cost_list)\n",
    "plt.show()"
   ]
  },
  {
   "cell_type": "code",
   "execution_count": 28,
   "id": "5f0dbaa3",
   "metadata": {},
   "outputs": [],
   "source": [
    "# Finding accuracy of model outcomes comparing with test dataset\n",
    "\n",
    "def Accuracy(X, Y, W, B):\n",
    "    \n",
    "    Z = np.dot(W.T, X) + B\n",
    "    A = sigmoid(Z)\n",
    "    \n",
    "    A = A > 0.5\n",
    "    \n",
    "    A = np.array(A, dtype = 'int64')\n",
    "    \n",
    "    acc = (1 - np.sum(np.absolute(A - Y))/Y.shape[1])*100\n",
    "    \n",
    "    print(\"Accuracy of our model is : \", round(acc, 2), \"%\")"
   ]
  },
  {
   "cell_type": "code",
   "execution_count": 29,
   "id": "361a90c0",
   "metadata": {},
   "outputs": [
    {
     "name": "stdout",
     "output_type": "stream",
     "text": [
      "Accuracy of our model is :  79.48 %\n"
     ]
    }
   ],
   "source": [
    "# Our model is 79.48 % has accuracy in predicting outcomes\n",
    "Accuracy(X_test, Y_test, W, B)"
   ]
  }
 ],
 "metadata": {
  "kernelspec": {
   "display_name": "Python 3 (ipykernel)",
   "language": "python",
   "name": "python3"
  },
  "language_info": {
   "codemirror_mode": {
    "name": "ipython",
    "version": 3
   },
   "file_extension": ".py",
   "mimetype": "text/x-python",
   "name": "python",
   "nbconvert_exporter": "python",
   "pygments_lexer": "ipython3",
   "version": "3.10.1"
  }
 },
 "nbformat": 4,
 "nbformat_minor": 5
}
